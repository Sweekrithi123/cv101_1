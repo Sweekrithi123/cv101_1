{
 "cells": [
  {
   "cell_type": "markdown",
   "source": [
    "##  <font style=\"color:black\">Import Libraries</font>"
   ],
   "metadata": {}
  },
  {
   "cell_type": "code",
   "execution_count": null,
   "source": [
    "import cv2\r\n",
    "import numpy as np\r\n",
    "import matplotlib.pyplot as plt\r\n",
    "%matplotlib inline\r\n",
    "from IPython.display import Image"
   ],
   "outputs": [],
   "metadata": {}
  },
  {
   "cell_type": "markdown",
   "source": [
    "##  <font style=\"color:black\">Display Image Directly</font>\r\n",
    "We will use the following as our sample images. We will use the ipython image function to load and display the image."
   ],
   "metadata": {}
  },
  {
   "cell_type": "code",
   "execution_count": null,
   "source": [
    "# Display 18x18 pixel image.\r\n",
    "Image(filename='images/checkerboard_18x18.png') "
   ],
   "outputs": [],
   "metadata": {}
  },
  {
   "cell_type": "code",
   "execution_count": null,
   "source": [
    "# Display 18x18 pixel image.\r\n",
    "Image(filename='images/checkerboard_18x18.png') "
   ],
   "outputs": [],
   "metadata": {}
  },
  {
   "cell_type": "code",
   "execution_count": null,
   "source": [
    "# Display 84x84 pixel image.\r\n",
    "Image(filename='images/checkerboard_84x84.jpg') "
   ],
   "outputs": [],
   "metadata": {}
  },
  {
   "cell_type": "code",
   "execution_count": null,
   "source": [
    "# Display 84x84 pixel image.\r\n",
    "Image(filename='images/checkerboard_84x84.jpg') "
   ],
   "outputs": [],
   "metadata": {}
  },
  {
   "cell_type": "markdown",
   "source": [
    "\r\n",
    "# <font style=\"color:black\">Reading images using OpenCV</font>\r\n",
    "\r\n",
    "OpenCV allows reading different types of images (JPG, PNG, etc). You can load grayscale images, color images or you can also load images with Alpha channel. It uses the **`cv2.imread()`** function which has the following syntax:\r\n",
    "\r\n",
    "### <font color=\"green\">Function Syntax </font>\r\n",
    "``` python\r\n",
    "retval = cv2.imread( filename[, flags] )\r\n",
    "```\r\n",
    "\r\n",
    "`retval`: Is the image if it is successfully loaded. Otherwise it is `None`. This may happen if the filename is wrong or the file is corrupt.\r\n",
    "\r\n",
    "The function has **1 required input argument** and one optional flag:\r\n",
    "\r\n",
    "\r\n",
    "1. `filename`: This can be an **absolute** or **relative** path. This is a **mandatory argument**.\r\n",
    "2. `Flags`:    These flags are used to read an image in a particular format (for example, grayscale/color/with alpha channel). This is an **optional argument** with a default value of `cv2.IMREAD_COLOR` or `1` which loads the image as a color image.\r\n",
    "\r\n",
    "Before we proceed with some examples, let's also have a look at some of the `flags` available.\r\n",
    "\r\n",
    "**Flags**\r\n",
    "1. **`cv2.IMREAD_GRAYSCALE`** or **`0`**: Loads image in grayscale mode\r\n",
    "2. **`cv2.IMREAD_COLOR`** or **`1`**: Loads a color image. Any transparency of image will be neglected. It is the default flag.\r\n",
    "3. **`cv2.IMREAD_UNCHANGED`** or **`-1`**: Loads image as such including alpha channel.\r\n",
    "\r\n",
    "\r\n",
    "### <font color=\"green\">OpenCV Documentation</font>\r\n",
    "\r\n",
    "**`Imread:`**https://docs.opencv.org/4.5.1/d4/da8/group__imgcodecs.html#ga288b8b3da0892bd651fce07b3bbd3a56\r\n",
    "\r\n",
    "**`ImreadModes:`** https://docs.opencv.org/4.5.1/d8/d6a/group__imgcodecs__flags.html#ga61d9b0126a3e57d9277ac48327799c80\r\n"
   ],
   "metadata": {}
  },
  {
   "cell_type": "code",
   "execution_count": null,
   "source": [
    "# Read image as gray scale.\r\n",
    "cb_img = cv2.imread(\"images/checkerboard_18x18.png\",0)\r\n",
    "\r\n",
    "# Print the image data (pixel values), element of a 2D numpy array.\r\n",
    "# Each pixel value is 8-bits [0,255]\r\n",
    "print(cb_img)"
   ],
   "outputs": [],
   "metadata": {}
  },
  {
   "cell_type": "markdown",
   "source": [
    "## Display Image attributes"
   ],
   "metadata": {}
  },
  {
   "cell_type": "code",
   "execution_count": null,
   "source": [
    "# print the size  of image\r\n",
    "print(\"Image size is \", cb_img.shape)\r\n",
    "\r\n",
    "# print data-type of image\r\n",
    "print(\"Data type of image is \", cb_img.dtype)"
   ],
   "outputs": [],
   "metadata": {}
  },
  {
   "cell_type": "markdown",
   "source": [
    "## Display Images using Matplotlib"
   ],
   "metadata": {}
  },
  {
   "cell_type": "code",
   "execution_count": null,
   "source": [
    "# Display image.\r\n",
    "plt.imshow(cb_img)"
   ],
   "outputs": [],
   "metadata": {}
  },
  {
   "cell_type": "markdown",
   "source": [
    "### What happened?\r\n",
    "Even though the image was read in as a gray scale image, it won't necessarily display in gray scale when using `imshow()`. matplotlib uses different color maps and it's possible that the gray scale color map is not set."
   ],
   "metadata": {}
  },
  {
   "cell_type": "code",
   "execution_count": null,
   "source": [
    "# Set color map to gray scale for proper rendering.\r\n",
    "plt.imshow(cb_img, cmap='gray')"
   ],
   "outputs": [],
   "metadata": {}
  },
  {
   "cell_type": "markdown",
   "source": [
    "## Another example"
   ],
   "metadata": {}
  },
  {
   "cell_type": "code",
   "execution_count": null,
   "source": [
    "# Read image as gray scale.\r\n",
    "cb_img_fuzzy = cv2.imread(\"images/checkerboard_fuzzy_18x18.jpg\",0)\r\n",
    "\r\n",
    "# print image\r\n",
    "print(cb_img_fuzzy)\r\n",
    "\r\n",
    "# Display image.\r\n",
    "plt.imshow(cb_img_fuzzy,cmap='gray')"
   ],
   "outputs": [],
   "metadata": {}
  },
  {
   "cell_type": "markdown",
   "source": [
    "## Working with Color Images\r\n",
    "Until now, we have been using gray scale images in our discussion. Let us now discuss color images."
   ],
   "metadata": {}
  },
  {
   "cell_type": "code",
   "execution_count": null,
   "source": [
    "# Read and display Coca-Cola logo.\r\n",
    "Image(\"images/coca-cola-logo.png\")"
   ],
   "outputs": [],
   "metadata": {}
  },
  {
   "cell_type": "markdown",
   "source": [
    "## Read and display color image\r\n",
    "Let us read a color image and check the parameters. Note the image dimension."
   ],
   "metadata": {}
  },
  {
   "cell_type": "code",
   "execution_count": null,
   "source": [
    "# Read in image\r\n",
    "coke_img = cv2.imread(\"images/coca-cola-logo.png\",1)\r\n",
    "\r\n",
    "# print the size  of image\r\n",
    "print(\"Image size is \", coke_img.shape)\r\n",
    "\r\n",
    "# print data-type of image\r\n",
    "print(\"Data type of image is \", coke_img.dtype)\r\n",
    "\r\n",
    "print(\"\")"
   ],
   "outputs": [],
   "metadata": {}
  },
  {
   "cell_type": "markdown",
   "source": [
    "## Display the Image"
   ],
   "metadata": {}
  },
  {
   "cell_type": "code",
   "execution_count": null,
   "source": [
    "plt.imshow(coke_img)\r\n",
    "#  What happened?"
   ],
   "outputs": [],
   "metadata": {}
  },
  {
   "cell_type": "markdown",
   "source": [
    "The color displayed above is different from the actual image. This is because matplotlib expects the image in RGB format whereas OpenCV stores images in BGR format. Thus, for correct display, we need to reverse the channels of the image. We will discuss about the channels in the sections below."
   ],
   "metadata": {}
  },
  {
   "cell_type": "code",
   "execution_count": null,
   "source": [
    "coke_img_channels_reversed = coke_img[:, :, ::-1]\r\n",
    "plt.imshow(coke_img_channels_reversed)"
   ],
   "outputs": [],
   "metadata": {}
  },
  {
   "cell_type": "markdown",
   "source": [
    "## Splitting and Merging Color Channels\r\n",
    "\r\n",
    "\r\n",
    "**`cv2.split()`** Divides a multi-channel array into several single-channel arrays.\r\n",
    "\r\n",
    "**`cv2.merge()`** Merges several arrays to make a single multi-channel array. All the input matrices must have the same size.\r\n",
    "\r\n",
    "### <font style=\"color:rgb(8,133,37)\">OpenCV Documentation</font>\r\n",
    "\r\n",
    "https://docs.opencv.org/4.5.1/d2/de8/group__core__array.html#ga0547c7fed86152d7e9d0096029c8518a\r\n"
   ],
   "metadata": {}
  },
  {
   "cell_type": "code",
   "execution_count": null,
   "source": [
    "# Split the image into the B,G,R components\r\n",
    "img_NZ_bgr = cv2.imread(\"images/New_Zealand_Lake.jpg\",cv2.IMREAD_COLOR)\r\n",
    "b,g,r = cv2.split(img_NZ_bgr)\r\n",
    "\r\n",
    "# Show the channels\r\n",
    "plt.figure(figsize=[20,5])\r\n",
    "plt.subplot(141);plt.imshow(r,cmap='gray');plt.title(\"Red Channel\");\r\n",
    "plt.subplot(142);plt.imshow(g,cmap='gray');plt.title(\"Green Channel\");\r\n",
    "plt.subplot(143);plt.imshow(b,cmap='gray');plt.title(\"Blue Channel\");\r\n",
    "\r\n",
    "# Merge the individual channels into a BGR image\r\n",
    "imgMerged = cv2.merge((b,g,r))\r\n",
    "# Show the merged output\r\n",
    "plt.subplot(144);plt.imshow(imgMerged[:,:,::-1]);plt.title(\"Merged Output\");"
   ],
   "outputs": [],
   "metadata": {}
  },
  {
   "cell_type": "markdown",
   "source": [
    "## Converting to different Color Spaces\r\n",
    "\r\n",
    "\r\n",
    "**`cv2.cvtColor()`** Converts an image from one color space to another. The function converts an input image from one color space to another. In case of a transformation to-from RGB color space, the order of the channels should be specified explicitly (RGB or BGR). Note that the default color format in OpenCV is often referred to as RGB but it is actually BGR (the bytes are reversed). So the first byte in a standard (24-bit) color image will be an 8-bit Blue component, the second byte will be Green, and the third byte will be Red. The fourth, fifth, and sixth bytes would then be the second pixel (Blue, then Green, then Red), and so on.\r\n",
    "\r\n",
    "### <font style=\"color:rgb(8,133,37)\">Function Syntax </font>\r\n",
    "``` python\r\n",
    "dst = cv2.cvtColor( src, code )\r\n",
    "```\r\n",
    "\r\n",
    "`dst`: Is the output image of the same size and depth as `src`.\r\n",
    "\r\n",
    "The function has **2 required arguments**:\r\n",
    "\r\n",
    "1. `src` input image: 8-bit unsigned, 16-bit unsigned ( CV_16UC... ), or single-precision floating-point.\r\n",
    "2. `code` color space conversion code (see ColorConversionCodes). \r\n",
    "\r\n",
    "### <font style=\"color:rgb(8,133,37)\">OpenCV Documentation</font>\r\n",
    "\r\n",
    "**`cv2.cvtColor:`** https://docs.opencv.org/3.4/d8/d01/group__imgproc__color__conversions.html#ga397ae87e1288a81d2363b61574eb8cab\r\n",
    "**`ColorConversionCodes:`** https://docs.opencv.org/4.5.1/d8/d01/group__imgproc__color__conversions.html#ga4e0972be5de079fed4e3a10e24ef5ef0"
   ],
   "metadata": {}
  },
  {
   "cell_type": "markdown",
   "source": [
    "### Changing from BGR to RGB"
   ],
   "metadata": {}
  },
  {
   "cell_type": "code",
   "execution_count": null,
   "source": [
    "# OpenCV stores color channels in a differnet order than most other applications (BGR vs RGB).\r\n",
    "img_NZ_rgb = cv2.cvtColor(img_NZ_bgr, cv2.COLOR_BGR2RGB)\r\n",
    "plt.imshow(img_NZ_rgb)"
   ],
   "outputs": [],
   "metadata": {}
  },
  {
   "cell_type": "markdown",
   "source": [
    "### Changing to HSV color space"
   ],
   "metadata": {}
  },
  {
   "cell_type": "code",
   "execution_count": null,
   "source": [
    "img_hsv = cv2.cvtColor(img_NZ_bgr, cv2.COLOR_BGR2HSV)\r\n",
    "# Split the image into the B,G,R components\r\n",
    "h,s,v = cv2.split(img_hsv)\r\n",
    "\r\n",
    "# Show the channels\r\n",
    "plt.figure(figsize=[20,5])\r\n",
    "plt.subplot(141);plt.imshow(h,cmap='gray');plt.title(\"H Channel\");\r\n",
    "plt.subplot(142);plt.imshow(s,cmap='gray');plt.title(\"S Channel\");\r\n",
    "plt.subplot(143);plt.imshow(v,cmap='gray');plt.title(\"V Channel\");\r\n",
    "plt.subplot(144);plt.imshow(img_NZ_rgb);plt.title(\"Original\");\r\n"
   ],
   "outputs": [],
   "metadata": {}
  },
  {
   "cell_type": "markdown",
   "source": [
    "## Modifying individual Channel"
   ],
   "metadata": {}
  },
  {
   "cell_type": "code",
   "execution_count": null,
   "source": [
    "h_new = h+10\r\n",
    "img_NZ_merged = cv2.merge((h_new,s,v))\r\n",
    "img_NZ_rgb = cv2.cvtColor(img_NZ_merged, cv2.COLOR_HSV2RGB)\r\n",
    "\r\n",
    "# Show the channels\r\n",
    "plt.figure(figsize=[20,5])\r\n",
    "plt.subplot(141);plt.imshow(h,cmap='gray');plt.title(\"H Channel\");\r\n",
    "plt.subplot(142);plt.imshow(s,cmap='gray');plt.title(\"S Channel\");\r\n",
    "plt.subplot(143);plt.imshow(v,cmap='gray');plt.title(\"V Channel\");\r\n",
    "plt.subplot(144);plt.imshow(img_NZ_rgb);plt.title(\"Modified\");"
   ],
   "outputs": [],
   "metadata": {}
  },
  {
   "cell_type": "markdown",
   "source": [
    "## Saving Images\r\n",
    "\r\n",
    "Saving the image is as trivial as reading an image in OpenCV. We use the function **`cv2.imwrite()`** with two arguments. The first one is the filename, second argument is the image object.\r\n",
    "\r\n",
    "The function imwrite saves the image to the specified file. The image format is chosen based on the filename extension (see cv::imread for the list of extensions). In general, only 8-bit single-channel or 3-channel (with 'BGR' channel order) images can be saved using this function (see the OpenCV documentation for further details).\r\n",
    "\r\n",
    "\t\r\n",
    "### <font style=\"color:rgb(8,133,37)\">Function Syntax </font>\r\n",
    "``` python\r\n",
    "cv2.imwrite( filename, img[, params] )\r\n",
    "```\r\n",
    "\r\n",
    "The function has **2 required arguments**:\r\n",
    "\r\n",
    "1. `filename`: This can be an **absolute** or **relative** path. \r\n",
    "2. `img`: Image or Images to be saved.\r\n",
    "\r\n",
    "### <font style=\"color:rgb(8,133,37)\">OpenCV Documentation</font>\r\n",
    "\r\n",
    "**`Imwrite:`** https://docs.opencv.org/4.5.1/d4/da8/group__imgcodecs.html#gabbc7ef1aa2edfaa87772f1202d67e0ce\r\n",
    "**`ImwriteFlags:`**https://docs.opencv.org/4.5.1/d8/d6a/group__imgcodecs__flags.html#ga292d81be8d76901bff7988d18d2b42ac"
   ],
   "metadata": {}
  },
  {
   "cell_type": "code",
   "execution_count": null,
   "source": [
    "# save the image\r\n",
    "cv2.imwrite(\"images/New_Zealand_Lake_SAVED.png\", img_NZ_bgr)\r\n",
    "\r\n",
    "Image(filename='images/New_Zealand_Lake_SAVED.png') "
   ],
   "outputs": [],
   "metadata": {}
  },
  {
   "cell_type": "code",
   "execution_count": null,
   "source": [
    "# read the image as Color\r\n",
    "img_NZ_bgr = cv2.imread(\"images/New_Zealand_Lake_SAVED.png\", cv2.IMREAD_COLOR)\r\n",
    "print(\"img_NZ_bgr shape is: \", img_NZ_bgr.shape)\r\n",
    "\r\n",
    "# read the image as Grayscaled\r\n",
    "img_NZ_gry = cv2.imread(\"images/New_Zealand_Lake_SAVED.png\", cv2.IMREAD_GRAYSCALE)\r\n",
    "print(\"img_NZ_gry shape is: \", img_NZ_gry.shape)"
   ],
   "outputs": [],
   "metadata": {}
  }
 ],
 "metadata": {
  "orig_nbformat": 4,
  "language_info": {
   "name": "python",
   "version": "3.9.6",
   "mimetype": "text/x-python",
   "codemirror_mode": {
    "name": "ipython",
    "version": 3
   },
   "pygments_lexer": "ipython3",
   "nbconvert_exporter": "python",
   "file_extension": ".py"
  },
  "kernelspec": {
   "name": "python3",
   "display_name": "Python 3.9.6 64-bit"
  },
  "interpreter": {
   "hash": "f76912bb19a6ac44e693330027304ef2c51559af556ebc9ed6379c93719c9cf0"
  }
 },
 "nbformat": 4,
 "nbformat_minor": 2
}